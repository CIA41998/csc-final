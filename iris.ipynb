{
 "cells": [
  {
   "cell_type": "markdown",
   "metadata": {},
   "source": [
    "# Libraries"
   ]
  },
  {
   "cell_type": "code",
   "execution_count": 12,
   "metadata": {},
   "outputs": [],
   "source": [
    "from keras.models import Sequential\n",
    "from keras.layers import Dense\n",
    "from scikeras.wrappers import KerasClassifier\n",
    "from tensorflow.keras import utils\n",
    "from sklearn.model_selection import cross_val_score\n",
    "from sklearn.model_selection import KFold\n",
    "from sklearn.preprocessing import LabelEncoder\n",
    "from sklearn.pipeline import Pipeline\n",
    "import pandas as pd, numpy as np\n",
    "from sklearn.model_selection import train_test_split\n",
    "from sklearn.metrics import accuracy_score\n",
    "from sklearn.model_selection import StratifiedKFold\n",
    "import tensorflow as tf"
   ]
  },
  {
   "cell_type": "markdown",
   "metadata": {},
   "source": [
    "# Get data"
   ]
  },
  {
   "cell_type": "code",
   "execution_count": 21,
   "metadata": {},
   "outputs": [],
   "source": [
    "a = pd.read_csv('iris.csv', header = None)\n",
    "i = pd.DataFrame(a)\n",
    "iris = i.values\n",
    "\n",
    "X = iris[:, :4].astype(float)  # Features\n",
    "Y = iris[:, 4]  # Labels"
   ]
  },
  {
   "cell_type": "code",
   "execution_count": 22,
   "metadata": {},
   "outputs": [],
   "source": [
    "# Set Seed\n",
    "seed = 7\n",
    "np.random.seed(seed)"
   ]
  },
  {
   "cell_type": "code",
   "execution_count": 23,
   "metadata": {},
   "outputs": [],
   "source": [
    "# Label encode Class (Species)\n",
    "encoder = LabelEncoder()\n",
    "encoder.fit(Y)\n",
    "encoded_Y = encoder.transform(Y)\n",
    "# One Hot Encode\n",
    "y_dummy = utils.to_categorical(encoded_Y)"
   ]
  },
  {
   "cell_type": "code",
   "execution_count": 25,
   "metadata": {},
   "outputs": [],
   "source": [
    "# Deep Learnig Function\n",
    "def deepml_model():\n",
    "    # Model Creation\n",
    "    deepml = Sequential()\n",
    "    deepml.add(Dense(8, input_dim=4, activation='relu'))\n",
    "    deepml.add(Dense(3, activation='softmax'))\n",
    "    # Model Compilation\n",
    "    deepml.compile(loss='categorical_crossentropy', optimizer='adam', metrics=['accuracy'])\n",
    "    # deepml.compile(loss='categorical_crossentropy', optimizer='adam', metrics=['accuracy'])\n",
    "    return deepml"
   ]
  },
  {
   "cell_type": "markdown",
   "metadata": {},
   "source": [
    "# 10-fold"
   ]
  },
  {
   "cell_type": "code",
   "execution_count": 28,
   "metadata": {},
   "outputs": [
    {
     "name": "stderr",
     "output_type": "stream",
     "text": [
      "c:\\Users\\ICojocaru\\AppData\\Local\\Programs\\Python\\Python312\\Lib\\site-packages\\keras\\src\\layers\\core\\dense.py:86: UserWarning: Do not pass an `input_shape`/`input_dim` argument to a layer. When using Sequential models, prefer using an `Input(shape)` object as the first layer in the model instead.\n",
      "  super().__init__(activity_regularizer=activity_regularizer, **kwargs)\n"
     ]
    },
    {
     "name": "stdout",
     "output_type": "stream",
     "text": [
      "Score for fold: 100.0%\n",
      "Score for fold: 86.66666746139526%\n",
      "Score for fold: 100.0%\n",
      "Score for fold: 100.0%\n",
      "Score for fold: 100.0%\n",
      "Score for fold: 100.0%\n",
      "Score for fold: 86.66666746139526%\n",
      "Score for fold: 93.33333373069763%\n",
      "Score for fold: 100.0%\n",
      "Score for fold: 86.66666746139526%\n",
      "Model: 95.33% (6.00%)\n"
     ]
    }
   ],
   "source": [
    "k_fold = KFold(n_splits=10, shuffle=True, random_state=seed)\n",
    "\n",
    "acc_scores = []\n",
    "\n",
    "for train, test in k_fold.split(X, encoded_Y):\n",
    "    # Create model\n",
    "    model = deepml_model()\n",
    "    \n",
    "    # Train model\n",
    "    model.fit(X[train], y_dummy[train], epochs=200, batch_size=5, verbose=0)\n",
    "    \n",
    "    # Evaluate model\n",
    "    scores = model.evaluate(X[test], y_dummy[test], verbose=0)\n",
    "    print(f'Score for fold: {scores[1]*100}%')\n",
    "    acc_scores.append(scores[1] * 100)\n",
    "\n",
    "# Calculate mean and standard deviation of scores\n",
    "mean_acc = np.mean(acc_scores)\n",
    "std_acc = np.std(acc_scores)\n",
    "print(f'Model: {mean_acc:.2f}% ({std_acc:.2f}%)')"
   ]
  },
  {
   "cell_type": "markdown",
   "metadata": {},
   "source": [
    "# Ensemble"
   ]
  },
  {
   "cell_type": "code",
   "execution_count": 27,
   "metadata": {},
   "outputs": [
    {
     "name": "stderr",
     "output_type": "stream",
     "text": [
      "c:\\Users\\ICojocaru\\AppData\\Local\\Programs\\Python\\Python312\\Lib\\site-packages\\keras\\src\\layers\\core\\dense.py:86: UserWarning: Do not pass an `input_shape`/`input_dim` argument to a layer. When using Sequential models, prefer using an `Input(shape)` object as the first layer in the model instead.\n",
      "  super().__init__(activity_regularizer=activity_regularizer, **kwargs)\n"
     ]
    },
    {
     "name": "stdout",
     "output_type": "stream",
     "text": [
      "\u001b[1m1/1\u001b[0m \u001b[32m━━━━━━━━━━━━━━━━━━━━\u001b[0m\u001b[37m\u001b[0m \u001b[1m0s\u001b[0m 61ms/step\n",
      "\u001b[1m1/1\u001b[0m \u001b[32m━━━━━━━━━━━━━━━━━━━━\u001b[0m\u001b[37m\u001b[0m \u001b[1m0s\u001b[0m 85ms/step\n",
      "\u001b[1m1/1\u001b[0m \u001b[32m━━━━━━━━━━━━━━━━━━━━\u001b[0m\u001b[37m\u001b[0m \u001b[1m0s\u001b[0m 67ms/step\n",
      "\u001b[1m1/1\u001b[0m \u001b[32m━━━━━━━━━━━━━━━━━━━━\u001b[0m\u001b[37m\u001b[0m \u001b[1m0s\u001b[0m 75ms/step\n",
      "\u001b[1m1/1\u001b[0m \u001b[32m━━━━━━━━━━━━━━━━━━━━\u001b[0m\u001b[37m\u001b[0m \u001b[1m0s\u001b[0m 60ms/step\n",
      "\u001b[1m1/1\u001b[0m \u001b[32m━━━━━━━━━━━━━━━━━━━━\u001b[0m\u001b[37m\u001b[0m \u001b[1m0s\u001b[0m 66ms/step\n",
      "\u001b[1m1/1\u001b[0m \u001b[32m━━━━━━━━━━━━━━━━━━━━\u001b[0m\u001b[37m\u001b[0m \u001b[1m0s\u001b[0m 62ms/step\n",
      "\u001b[1m1/1\u001b[0m \u001b[32m━━━━━━━━━━━━━━━━━━━━\u001b[0m\u001b[37m\u001b[0m \u001b[1m0s\u001b[0m 66ms/step\n",
      "\u001b[1m1/1\u001b[0m \u001b[32m━━━━━━━━━━━━━━━━━━━━\u001b[0m\u001b[37m\u001b[0m \u001b[1m0s\u001b[0m 71ms/step\n",
      "\u001b[1m1/1\u001b[0m \u001b[32m━━━━━━━━━━━━━━━━━━━━\u001b[0m\u001b[37m\u001b[0m \u001b[1m0s\u001b[0m 72ms/step\n",
      "Ensemble Accuracy: 96.67%\n"
     ]
    }
   ],
   "source": [
    "# Split the data into training and testing sets\n",
    "X_train, X_test, y_train, y_test = train_test_split(X, y_dummy, test_size=0.2, random_state=seed)\n",
    "\n",
    "# Train an ensemble of 10 models\n",
    "models = [deepml_model() for _ in range(10)]\n",
    "for model in models:\n",
    "    # Train each model on the training data\n",
    "    model.fit(X_train, y_train, epochs=200, batch_size=5, verbose=0)\n",
    "\n",
    "# Predict with the ensemble and average the predictions\n",
    "predictions = [model.predict(X_test) for model in models]\n",
    "predictions = np.mean(predictions, axis=0)  # Averaging predictions from each model\n",
    "ensemble_pred = np.argmax(predictions, axis=1)  # Convert averaged probabilities to class labels\n",
    "\n",
    "# Evaluate the ensemble's accuracy on the test data\n",
    "test_true = np.argmax(y_test, axis=1)  # True class labels\n",
    "accuracy = accuracy_score(test_true, ensemble_pred)  # Calculate accuracy\n",
    "\n",
    "# Print the ensemble's accuracy\n",
    "print(\"Ensemble Accuracy: {:.2f}%\".format(accuracy * 100))"
   ]
  }
 ],
 "metadata": {
  "kernelspec": {
   "display_name": ".venv",
   "language": "python",
   "name": "python3"
  },
  "language_info": {
   "codemirror_mode": {
    "name": "ipython",
    "version": 3
   },
   "file_extension": ".py",
   "mimetype": "text/x-python",
   "name": "python",
   "nbconvert_exporter": "python",
   "pygments_lexer": "ipython3",
   "version": "3.12.0"
  }
 },
 "nbformat": 4,
 "nbformat_minor": 2
}
